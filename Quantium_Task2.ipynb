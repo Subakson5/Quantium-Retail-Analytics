{
 "cells": [
  {
   "cell_type": "markdown",
   "metadata": {},
   "source": [
    "# Importing relevant libraries and data required"
   ]
  },
  {
   "cell_type": "code",
   "execution_count": 1,
   "metadata": {},
   "outputs": [],
   "source": [
    "import pandas as pd\n",
    "import numpy as np\n",
    "\n",
    "import seaborn as sns\n",
    "import matplotlib.pyplot as plt \n",
    "\n",
    "# Remove warnings\n",
    "import warnings\n",
    "warnings.filterwarnings('ignore')"
   ]
  },
  {
   "cell_type": "code",
   "execution_count": 3,
   "metadata": {},
   "outputs": [
    {
     "data": {
      "text/html": [
       "<div>\n",
       "<style scoped>\n",
       "    .dataframe tbody tr th:only-of-type {\n",
       "        vertical-align: middle;\n",
       "    }\n",
       "\n",
       "    .dataframe tbody tr th {\n",
       "        vertical-align: top;\n",
       "    }\n",
       "\n",
       "    .dataframe thead th {\n",
       "        text-align: right;\n",
       "    }\n",
       "</style>\n",
       "<table border=\"1\" class=\"dataframe\">\n",
       "  <thead>\n",
       "    <tr style=\"text-align: right;\">\n",
       "      <th></th>\n",
       "      <th>LYLTY_CARD_NBR</th>\n",
       "      <th>DATE</th>\n",
       "      <th>STORE_NBR</th>\n",
       "      <th>TXN_ID</th>\n",
       "      <th>PROD_NBR</th>\n",
       "      <th>PROD_NAME</th>\n",
       "      <th>PROD_QTY</th>\n",
       "      <th>TOT_SALES</th>\n",
       "      <th>PACK_SIZE</th>\n",
       "      <th>BRAND</th>\n",
       "      <th>LIFESTAGE</th>\n",
       "      <th>PREMIUM_CUSTOMER</th>\n",
       "    </tr>\n",
       "  </thead>\n",
       "  <tbody>\n",
       "    <tr>\n",
       "      <td>0</td>\n",
       "      <td>1000</td>\n",
       "      <td>2018-10-17</td>\n",
       "      <td>1</td>\n",
       "      <td>1</td>\n",
       "      <td>5</td>\n",
       "      <td>Natural Chip        Compny SeaSalt175g</td>\n",
       "      <td>2</td>\n",
       "      <td>6.0</td>\n",
       "      <td>175</td>\n",
       "      <td>NATURAL</td>\n",
       "      <td>YOUNG SINGLES/COUPLES</td>\n",
       "      <td>Premium</td>\n",
       "    </tr>\n",
       "    <tr>\n",
       "      <td>1</td>\n",
       "      <td>1002</td>\n",
       "      <td>2018-09-16</td>\n",
       "      <td>1</td>\n",
       "      <td>2</td>\n",
       "      <td>58</td>\n",
       "      <td>Red Rock Deli Chikn&amp;Garlic Aioli 150g</td>\n",
       "      <td>1</td>\n",
       "      <td>2.7</td>\n",
       "      <td>150</td>\n",
       "      <td>RRD</td>\n",
       "      <td>YOUNG SINGLES/COUPLES</td>\n",
       "      <td>Mainstream</td>\n",
       "    </tr>\n",
       "    <tr>\n",
       "      <td>2</td>\n",
       "      <td>1003</td>\n",
       "      <td>2019-03-07</td>\n",
       "      <td>1</td>\n",
       "      <td>3</td>\n",
       "      <td>52</td>\n",
       "      <td>Grain Waves Sour    Cream&amp;Chives 210G</td>\n",
       "      <td>1</td>\n",
       "      <td>3.6</td>\n",
       "      <td>210</td>\n",
       "      <td>GRNWVES</td>\n",
       "      <td>YOUNG FAMILIES</td>\n",
       "      <td>Budget</td>\n",
       "    </tr>\n",
       "    <tr>\n",
       "      <td>3</td>\n",
       "      <td>1003</td>\n",
       "      <td>2019-03-08</td>\n",
       "      <td>1</td>\n",
       "      <td>4</td>\n",
       "      <td>106</td>\n",
       "      <td>Natural ChipCo      Hony Soy Chckn175g</td>\n",
       "      <td>1</td>\n",
       "      <td>3.0</td>\n",
       "      <td>175</td>\n",
       "      <td>NATURAL</td>\n",
       "      <td>YOUNG FAMILIES</td>\n",
       "      <td>Budget</td>\n",
       "    </tr>\n",
       "    <tr>\n",
       "      <td>4</td>\n",
       "      <td>1004</td>\n",
       "      <td>2018-11-02</td>\n",
       "      <td>1</td>\n",
       "      <td>5</td>\n",
       "      <td>96</td>\n",
       "      <td>WW Original Stacked Chips 160g</td>\n",
       "      <td>1</td>\n",
       "      <td>1.9</td>\n",
       "      <td>160</td>\n",
       "      <td>WOOLWORTHS</td>\n",
       "      <td>OLDER SINGLES/COUPLES</td>\n",
       "      <td>Mainstream</td>\n",
       "    </tr>\n",
       "  </tbody>\n",
       "</table>\n",
       "</div>"
      ],
      "text/plain": [
       "   LYLTY_CARD_NBR        DATE  STORE_NBR  TXN_ID  PROD_NBR  \\\n",
       "0            1000  2018-10-17          1       1         5   \n",
       "1            1002  2018-09-16          1       2        58   \n",
       "2            1003  2019-03-07          1       3        52   \n",
       "3            1003  2019-03-08          1       4       106   \n",
       "4            1004  2018-11-02          1       5        96   \n",
       "\n",
       "                                PROD_NAME  PROD_QTY  TOT_SALES  PACK_SIZE  \\\n",
       "0  Natural Chip        Compny SeaSalt175g         2        6.0        175   \n",
       "1   Red Rock Deli Chikn&Garlic Aioli 150g         1        2.7        150   \n",
       "2   Grain Waves Sour    Cream&Chives 210G         1        3.6        210   \n",
       "3  Natural ChipCo      Hony Soy Chckn175g         1        3.0        175   \n",
       "4          WW Original Stacked Chips 160g         1        1.9        160   \n",
       "\n",
       "        BRAND              LIFESTAGE PREMIUM_CUSTOMER  \n",
       "0     NATURAL  YOUNG SINGLES/COUPLES          Premium  \n",
       "1         RRD  YOUNG SINGLES/COUPLES       Mainstream  \n",
       "2     GRNWVES         YOUNG FAMILIES           Budget  \n",
       "3     NATURAL         YOUNG FAMILIES           Budget  \n",
       "4  WOOLWORTHS  OLDER SINGLES/COUPLES       Mainstream  "
      ]
     },
     "execution_count": 3,
     "metadata": {},
     "output_type": "execute_result"
    }
   ],
   "source": [
    "data = pd.read_csv('G:\\\\virtual experience\\\\Quantium\\\\QVI_data.csv')\n",
    "data.head()"
   ]
  },
  {
   "cell_type": "markdown",
   "metadata": {},
   "source": [
    "# Select control stores 77, 86, 88"
   ]
  },
  {
   "cell_type": "markdown",
   "metadata": {},
   "source": [
    "The client want control stores to be established stores that are operational for the entire observation period.\n",
    "\n",
    "We would want to match trial stores to control stores that are similar to the trial store prior to the trial period of Feb 2019 in terms of:\n",
    "\n",
    "    Monthly overall sales revenue\n",
    "    Monthly number of customers\n",
    "    Monthly number of transactions per customer\n",
    "\n",
    "Let's first create the metrics of interest and filter out stores that are present throughout the pre-trial period."
   ]
  },
  {
   "cell_type": "code",
   "execution_count": 4,
   "metadata": {},
   "outputs": [],
   "source": [
    "data[\"DATE\"] = pd.to_datetime(data[\"DATE\"])\n",
    "data[\"YEARMONTH\"] = data[\"DATE\"].dt.strftime(\"%Y%m\").astype(\"int\")"
   ]
  },
  {
   "cell_type": "markdown",
   "metadata": {},
   "source": [
    "For each month and store, calculate:\n",
    "\n",
    "    Total sales\n",
    "    Number of customers\n",
    "    Transaction per customer\n",
    "    Chips per transaction\n",
    "    Average price per unit"
   ]
  },
  {
   "cell_type": "code",
   "execution_count": 56,
   "metadata": {},
   "outputs": [],
   "source": [
    "def monthly_store_details():\n",
    "    total_sales = data.groupby(['STORE_NBR', 'YEARMONTH']).TOT_SALES.sum()\n",
    "    num_cust = data.groupby(['STORE_NBR', 'YEARMONTH']).LYLTY_CARD_NBR.nunique()\n",
    "    trans_per_cust = data.groupby(['STORE_NBR', 'YEARMONTH']).TXN_ID.nunique() / data.groupby(['STORE_NBR', 'YEARMONTH']).LYLTY_CARD_NBR.nunique()\n",
    "    avg_chips_per_cust = data.groupby(['STORE_NBR', 'YEARMONTH']).PROD_QTY.sum() / data.groupby(['STORE_NBR', 'YEARMONTH']).TXN_ID.nunique()\n",
    "    avg_chips_price = data.groupby(['STORE_NBR', 'YEARMONTH']).TOT_SALES.sum() / data.groupby(['STORE_NBR', 'YEARMONTH']).PROD_QTY.sum()\n",
    "    aggregates = [total_sales, num_cust, trans_per_cust, avg_chips_per_cust, avg_chips_price]\n",
    "    details = pd.concat(aggregates, join=\"outer\", axis=1)\n",
    "    details.columns = [\"TOT_SALES\", \"nCustomers\", \"nTxnPerCust\", \"nChipsPerTxn\", \"avgPricePerUnit\"]\n",
    "    return details"
   ]
  },
  {
   "cell_type": "code",
   "execution_count": 57,
   "metadata": {},
   "outputs": [
    {
     "name": "stdout",
     "output_type": "stream",
     "text": [
      "<class 'pandas.core.frame.DataFrame'>\n",
      "RangeIndex: 3169 entries, 0 to 3168\n",
      "Data columns (total 7 columns):\n",
      "STORE_NBR          3169 non-null int64\n",
      "YEARMONTH          3169 non-null int64\n",
      "TOT_SALES          3169 non-null float64\n",
      "nCustomers         3169 non-null int64\n",
      "nTxnPerCust        3169 non-null float64\n",
      "nChipsPerTxn       3169 non-null float64\n",
      "avgPricePerUnit    3169 non-null float64\n",
      "dtypes: float64(4), int64(3)\n",
      "memory usage: 173.4 KB\n"
     ]
    }
   ],
   "source": [
    "store_df = monthly_store_details().reset_index()\n",
    "store_df.info()"
   ]
  },
  {
   "cell_type": "code",
   "execution_count": 65,
   "metadata": {},
   "outputs": [
    {
     "data": {
      "text/html": [
       "<div>\n",
       "<style scoped>\n",
       "    .dataframe tbody tr th:only-of-type {\n",
       "        vertical-align: middle;\n",
       "    }\n",
       "\n",
       "    .dataframe tbody tr th {\n",
       "        vertical-align: top;\n",
       "    }\n",
       "\n",
       "    .dataframe thead th {\n",
       "        text-align: right;\n",
       "    }\n",
       "</style>\n",
       "<table border=\"1\" class=\"dataframe\">\n",
       "  <thead>\n",
       "    <tr style=\"text-align: right;\">\n",
       "      <th></th>\n",
       "      <th>STORE_NBR</th>\n",
       "      <th>YEARMONTH</th>\n",
       "      <th>TOT_SALES</th>\n",
       "      <th>nCustomers</th>\n",
       "      <th>nTxnPerCust</th>\n",
       "      <th>nChipsPerTxn</th>\n",
       "      <th>avgPricePerUnit</th>\n",
       "    </tr>\n",
       "  </thead>\n",
       "  <tbody>\n",
       "    <tr>\n",
       "      <td>0</td>\n",
       "      <td>1</td>\n",
       "      <td>201807</td>\n",
       "      <td>206.9</td>\n",
       "      <td>49</td>\n",
       "      <td>1.061224</td>\n",
       "      <td>1.192308</td>\n",
       "      <td>3.337097</td>\n",
       "    </tr>\n",
       "    <tr>\n",
       "      <td>1</td>\n",
       "      <td>1</td>\n",
       "      <td>201808</td>\n",
       "      <td>176.1</td>\n",
       "      <td>42</td>\n",
       "      <td>1.023810</td>\n",
       "      <td>1.255814</td>\n",
       "      <td>3.261111</td>\n",
       "    </tr>\n",
       "    <tr>\n",
       "      <td>2</td>\n",
       "      <td>1</td>\n",
       "      <td>201809</td>\n",
       "      <td>278.8</td>\n",
       "      <td>59</td>\n",
       "      <td>1.050847</td>\n",
       "      <td>1.209677</td>\n",
       "      <td>3.717333</td>\n",
       "    </tr>\n",
       "    <tr>\n",
       "      <td>3</td>\n",
       "      <td>1</td>\n",
       "      <td>201810</td>\n",
       "      <td>188.1</td>\n",
       "      <td>44</td>\n",
       "      <td>1.022727</td>\n",
       "      <td>1.288889</td>\n",
       "      <td>3.243103</td>\n",
       "    </tr>\n",
       "    <tr>\n",
       "      <td>4</td>\n",
       "      <td>1</td>\n",
       "      <td>201811</td>\n",
       "      <td>192.6</td>\n",
       "      <td>46</td>\n",
       "      <td>1.021739</td>\n",
       "      <td>1.212766</td>\n",
       "      <td>3.378947</td>\n",
       "    </tr>\n",
       "    <tr>\n",
       "      <td>...</td>\n",
       "      <td>...</td>\n",
       "      <td>...</td>\n",
       "      <td>...</td>\n",
       "      <td>...</td>\n",
       "      <td>...</td>\n",
       "      <td>...</td>\n",
       "      <td>...</td>\n",
       "    </tr>\n",
       "    <tr>\n",
       "      <td>3159</td>\n",
       "      <td>272</td>\n",
       "      <td>201809</td>\n",
       "      <td>304.7</td>\n",
       "      <td>32</td>\n",
       "      <td>1.125000</td>\n",
       "      <td>1.972222</td>\n",
       "      <td>4.291549</td>\n",
       "    </tr>\n",
       "    <tr>\n",
       "      <td>3160</td>\n",
       "      <td>272</td>\n",
       "      <td>201810</td>\n",
       "      <td>430.6</td>\n",
       "      <td>44</td>\n",
       "      <td>1.136364</td>\n",
       "      <td>1.980000</td>\n",
       "      <td>4.349495</td>\n",
       "    </tr>\n",
       "    <tr>\n",
       "      <td>3161</td>\n",
       "      <td>272</td>\n",
       "      <td>201811</td>\n",
       "      <td>376.2</td>\n",
       "      <td>41</td>\n",
       "      <td>1.097561</td>\n",
       "      <td>1.933333</td>\n",
       "      <td>4.324138</td>\n",
       "    </tr>\n",
       "    <tr>\n",
       "      <td>3162</td>\n",
       "      <td>272</td>\n",
       "      <td>201812</td>\n",
       "      <td>403.9</td>\n",
       "      <td>47</td>\n",
       "      <td>1.000000</td>\n",
       "      <td>1.893617</td>\n",
       "      <td>4.538202</td>\n",
       "    </tr>\n",
       "    <tr>\n",
       "      <td>3163</td>\n",
       "      <td>272</td>\n",
       "      <td>201901</td>\n",
       "      <td>423.0</td>\n",
       "      <td>46</td>\n",
       "      <td>1.086957</td>\n",
       "      <td>1.920000</td>\n",
       "      <td>4.406250</td>\n",
       "    </tr>\n",
       "  </tbody>\n",
       "</table>\n",
       "<p>1820 rows × 7 columns</p>\n",
       "</div>"
      ],
      "text/plain": [
       "      STORE_NBR  YEARMONTH  TOT_SALES  nCustomers  nTxnPerCust  nChipsPerTxn  \\\n",
       "0             1     201807      206.9          49     1.061224      1.192308   \n",
       "1             1     201808      176.1          42     1.023810      1.255814   \n",
       "2             1     201809      278.8          59     1.050847      1.209677   \n",
       "3             1     201810      188.1          44     1.022727      1.288889   \n",
       "4             1     201811      192.6          46     1.021739      1.212766   \n",
       "...         ...        ...        ...         ...          ...           ...   \n",
       "3159        272     201809      304.7          32     1.125000      1.972222   \n",
       "3160        272     201810      430.6          44     1.136364      1.980000   \n",
       "3161        272     201811      376.2          41     1.097561      1.933333   \n",
       "3162        272     201812      403.9          47     1.000000      1.893617   \n",
       "3163        272     201901      423.0          46     1.086957      1.920000   \n",
       "\n",
       "      avgPricePerUnit  \n",
       "0            3.337097  \n",
       "1            3.261111  \n",
       "2            3.717333  \n",
       "3            3.243103  \n",
       "4            3.378947  \n",
       "...               ...  \n",
       "3159         4.291549  \n",
       "3160         4.349495  \n",
       "3161         4.324138  \n",
       "3162         4.538202  \n",
       "3163         4.406250  \n",
       "\n",
       "[1820 rows x 7 columns]"
      ]
     },
     "execution_count": 65,
     "metadata": {},
     "output_type": "execute_result"
    }
   ],
   "source": [
    "df_count = store_df[\"STORE_NBR\"].value_counts()\n",
    "full_index = df_count[df_count == 12].index\n",
    "full_observ = store_df[store_df[\"STORE_NBR\"].isin(full_index)]\n",
    "full_store_df = full_observ[full_observ[\"YEARMONTH\"] < 201902]\n",
    "\n",
    "full_store_df"
   ]
  },
  {
   "cell_type": "code",
   "execution_count": 73,
   "metadata": {},
   "outputs": [],
   "source": [
    "# Creating a function which calculates the correlation between trial store and other stores based on a single metric\n",
    "\n",
    "def calCorr(metric, trial_store, inputTable = full_store_df):\n",
    "    \n",
    "    ctrl_store = inputTable[~inputTable[\"STORE_NBR\"].isin([77, 86, 88])][\"STORE_NBR\"].unique()\n",
    "    output = pd.DataFrame(columns = [\"YEARMONTH\", \"Trial_Str\", \"Ctrl_Str\", \"Corr_Score\"])\n",
    "    store_comp = inputTable[inputTable['STORE_NBR'] == trial_store][metric].reset_index()\n",
    "    \n",
    "    for i in ctrl_store:\n",
    "        concat_df = pd.DataFrame(columns = [\"YEARMONTH\", \"Trial_Str\", \"Ctrl_Str\", \"Corr_Score\"])\n",
    "        control_store = inputTable[inputTable['STORE_NBR'] == i][metric].reset_index()\n",
    "        control_store.reset_index(drop = True, inplace = True)\n",
    "        concat_df[\"Corr_Score\"] = store_comp.corrwith(control_store, axis=1)\n",
    "        concat_df[\"Trial_Str\"] = trial_store\n",
    "        concat_df[\"Ctrl_Str\"] = i\n",
    "        concat_df[\"YEARMONTH\"] = list(inputTable[inputTable[\"STORE_NBR\"] == trial_store][\"YEARMONTH\"])\n",
    "        output = pd.concat([output, concat_df])\n",
    "    return output\n"
   ]
  },
  {
   "cell_type": "code",
   "execution_count": 76,
   "metadata": {},
   "outputs": [
    {
     "data": {
      "text/html": [
       "<div>\n",
       "<style scoped>\n",
       "    .dataframe tbody tr th:only-of-type {\n",
       "        vertical-align: middle;\n",
       "    }\n",
       "\n",
       "    .dataframe tbody tr th {\n",
       "        vertical-align: top;\n",
       "    }\n",
       "\n",
       "    .dataframe thead th {\n",
       "        text-align: right;\n",
       "    }\n",
       "</style>\n",
       "<table border=\"1\" class=\"dataframe\">\n",
       "  <thead>\n",
       "    <tr style=\"text-align: right;\">\n",
       "      <th></th>\n",
       "      <th>YEARMONTH</th>\n",
       "      <th>Trial_Str</th>\n",
       "      <th>Ctrl_Str</th>\n",
       "      <th>Corr_Score</th>\n",
       "    </tr>\n",
       "  </thead>\n",
       "  <tbody>\n",
       "    <tr>\n",
       "      <td>0</td>\n",
       "      <td>201807</td>\n",
       "      <td>77</td>\n",
       "      <td>1</td>\n",
       "      <td>0.070544</td>\n",
       "    </tr>\n",
       "    <tr>\n",
       "      <td>1</td>\n",
       "      <td>201808</td>\n",
       "      <td>77</td>\n",
       "      <td>1</td>\n",
       "      <td>0.027332</td>\n",
       "    </tr>\n",
       "    <tr>\n",
       "      <td>2</td>\n",
       "      <td>201809</td>\n",
       "      <td>77</td>\n",
       "      <td>1</td>\n",
       "      <td>0.002472</td>\n",
       "    </tr>\n",
       "    <tr>\n",
       "      <td>3</td>\n",
       "      <td>201810</td>\n",
       "      <td>77</td>\n",
       "      <td>1</td>\n",
       "      <td>-0.019991</td>\n",
       "    </tr>\n",
       "    <tr>\n",
       "      <td>4</td>\n",
       "      <td>201811</td>\n",
       "      <td>77</td>\n",
       "      <td>1</td>\n",
       "      <td>0.030094</td>\n",
       "    </tr>\n",
       "    <tr>\n",
       "      <td>5</td>\n",
       "      <td>201812</td>\n",
       "      <td>77</td>\n",
       "      <td>1</td>\n",
       "      <td>0.064176</td>\n",
       "    </tr>\n",
       "    <tr>\n",
       "      <td>6</td>\n",
       "      <td>201901</td>\n",
       "      <td>77</td>\n",
       "      <td>1</td>\n",
       "      <td>0.001586</td>\n",
       "    </tr>\n",
       "    <tr>\n",
       "      <td>0</td>\n",
       "      <td>201807</td>\n",
       "      <td>77</td>\n",
       "      <td>2</td>\n",
       "      <td>0.143089</td>\n",
       "    </tr>\n",
       "    <tr>\n",
       "      <td>1</td>\n",
       "      <td>201808</td>\n",
       "      <td>77</td>\n",
       "      <td>2</td>\n",
       "      <td>0.097781</td>\n",
       "    </tr>\n",
       "    <tr>\n",
       "      <td>2</td>\n",
       "      <td>201809</td>\n",
       "      <td>77</td>\n",
       "      <td>2</td>\n",
       "      <td>0.078056</td>\n",
       "    </tr>\n",
       "  </tbody>\n",
       "</table>\n",
       "</div>"
      ],
      "text/plain": [
       "  YEARMONTH Trial_Str Ctrl_Str  Corr_Score\n",
       "0    201807        77        1    0.070544\n",
       "1    201808        77        1    0.027332\n",
       "2    201809        77        1    0.002472\n",
       "3    201810        77        1   -0.019991\n",
       "4    201811        77        1    0.030094\n",
       "5    201812        77        1    0.064176\n",
       "6    201901        77        1    0.001586\n",
       "0    201807        77        2    0.143089\n",
       "1    201808        77        2    0.097781\n",
       "2    201809        77        2    0.078056"
      ]
     },
     "execution_count": 76,
     "metadata": {},
     "output_type": "execute_result"
    }
   ],
   "source": [
    "corr_table = pd.DataFrame()\n",
    "for store in [77, 86, 88]:\n",
    "    corr_table = pd.concat([corr_table, calCorr([\"TOT_SALES\", \"nCustomers\", \"nTxnPerCust\", \"nChipsPerTxn\", \"avgPricePerUnit\"], store)])\n",
    "    \n",
    "corr_table.head(10)"
   ]
  },
  {
   "cell_type": "code",
   "execution_count": 77,
   "metadata": {},
   "outputs": [],
   "source": [
    "def calMagDist(metric, trial_store, inputTable=full_store_df):\n",
    "    \n",
    "    ctrl_store = inputTable[~inputTable[\"STORE_NBR\"].isin([77, 86, 88])][\"STORE_NBR\"].unique()\n",
    "    dists = pd.DataFrame()\n",
    "    store_comp = inputTable[inputTable[\"STORE_NBR\"] == trial_store][metric]\n",
    "    for i in ctrl_store:\n",
    "        concat_df  = abs(inputTable[inputTable[\"STORE_NBR\"] == trial_store].reset_index()[metric] - inputTable[inputTable[\"STORE_NBR\"] == i].reset_index()[metric])\n",
    "        concat_df[\"YEARMONTH\"] = list(inputTable[inputTable[\"STORE_NBR\"] == trial_store][\"YEARMONTH\"])\n",
    "        concat_df[\"Trial_Str\"] = trial_store\n",
    "        concat_df[\"Ctrl_Str\"] = i\n",
    "        dists = pd.concat([dists, concat_df])\n",
    "    for col in metric:\n",
    "        dists[col] = 1 - ((dists[col] - dists[col].min()) / (dists[col].max() - dists[col].min()))\n",
    "    dists[\"magnitude\"] = dists[metric].mean(axis=1)\n",
    "    return dists"
   ]
  },
  {
   "cell_type": "code",
   "execution_count": 79,
   "metadata": {},
   "outputs": [
    {
     "data": {
      "text/html": [
       "<div>\n",
       "<style scoped>\n",
       "    .dataframe tbody tr th:only-of-type {\n",
       "        vertical-align: middle;\n",
       "    }\n",
       "\n",
       "    .dataframe tbody tr th {\n",
       "        vertical-align: top;\n",
       "    }\n",
       "\n",
       "    .dataframe thead th {\n",
       "        text-align: right;\n",
       "    }\n",
       "</style>\n",
       "<table border=\"1\" class=\"dataframe\">\n",
       "  <thead>\n",
       "    <tr style=\"text-align: right;\">\n",
       "      <th></th>\n",
       "      <th>TOT_SALES</th>\n",
       "      <th>nCustomers</th>\n",
       "      <th>nTxnPerCust</th>\n",
       "      <th>nChipsPerTxn</th>\n",
       "      <th>avgPricePerUnit</th>\n",
       "      <th>YEARMONTH</th>\n",
       "      <th>Trial_Str</th>\n",
       "      <th>Ctrl_Str</th>\n",
       "      <th>magnitude</th>\n",
       "    </tr>\n",
       "  </thead>\n",
       "  <tbody>\n",
       "    <tr>\n",
       "      <td>0</td>\n",
       "      <td>0.935431</td>\n",
       "      <td>0.980769</td>\n",
       "      <td>0.956123</td>\n",
       "      <td>0.522259</td>\n",
       "      <td>0.883569</td>\n",
       "      <td>201807</td>\n",
       "      <td>77</td>\n",
       "      <td>1</td>\n",
       "      <td>0.855630</td>\n",
       "    </tr>\n",
       "    <tr>\n",
       "      <td>1</td>\n",
       "      <td>0.942972</td>\n",
       "      <td>0.951923</td>\n",
       "      <td>0.993541</td>\n",
       "      <td>0.592305</td>\n",
       "      <td>0.886328</td>\n",
       "      <td>201808</td>\n",
       "      <td>77</td>\n",
       "      <td>1</td>\n",
       "      <td>0.873414</td>\n",
       "    </tr>\n",
       "    <tr>\n",
       "      <td>2</td>\n",
       "      <td>0.961503</td>\n",
       "      <td>0.836538</td>\n",
       "      <td>0.991768</td>\n",
       "      <td>0.456272</td>\n",
       "      <td>0.703027</td>\n",
       "      <td>201809</td>\n",
       "      <td>77</td>\n",
       "      <td>1</td>\n",
       "      <td>0.789822</td>\n",
       "    </tr>\n",
       "    <tr>\n",
       "      <td>3</td>\n",
       "      <td>0.988221</td>\n",
       "      <td>0.932692</td>\n",
       "      <td>0.989036</td>\n",
       "      <td>0.886568</td>\n",
       "      <td>0.590528</td>\n",
       "      <td>201810</td>\n",
       "      <td>77</td>\n",
       "      <td>1</td>\n",
       "      <td>0.877409</td>\n",
       "    </tr>\n",
       "    <tr>\n",
       "      <td>4</td>\n",
       "      <td>0.962149</td>\n",
       "      <td>0.951923</td>\n",
       "      <td>0.868852</td>\n",
       "      <td>0.557921</td>\n",
       "      <td>0.832481</td>\n",
       "      <td>201811</td>\n",
       "      <td>77</td>\n",
       "      <td>1</td>\n",
       "      <td>0.834665</td>\n",
       "    </tr>\n",
       "    <tr>\n",
       "      <td>...</td>\n",
       "      <td>...</td>\n",
       "      <td>...</td>\n",
       "      <td>...</td>\n",
       "      <td>...</td>\n",
       "      <td>...</td>\n",
       "      <td>...</td>\n",
       "      <td>...</td>\n",
       "      <td>...</td>\n",
       "      <td>...</td>\n",
       "    </tr>\n",
       "    <tr>\n",
       "      <td>2</td>\n",
       "      <td>0.207554</td>\n",
       "      <td>0.286822</td>\n",
       "      <td>0.469697</td>\n",
       "      <td>0.948729</td>\n",
       "      <td>0.923887</td>\n",
       "      <td>201809</td>\n",
       "      <td>88</td>\n",
       "      <td>272</td>\n",
       "      <td>0.567338</td>\n",
       "    </tr>\n",
       "    <tr>\n",
       "      <td>3</td>\n",
       "      <td>0.346797</td>\n",
       "      <td>0.387597</td>\n",
       "      <td>0.534816</td>\n",
       "      <td>0.943478</td>\n",
       "      <td>0.971133</td>\n",
       "      <td>201810</td>\n",
       "      <td>88</td>\n",
       "      <td>272</td>\n",
       "      <td>0.636764</td>\n",
       "    </tr>\n",
       "    <tr>\n",
       "      <td>4</td>\n",
       "      <td>0.286706</td>\n",
       "      <td>0.310078</td>\n",
       "      <td>0.615078</td>\n",
       "      <td>0.923475</td>\n",
       "      <td>0.966999</td>\n",
       "      <td>201811</td>\n",
       "      <td>88</td>\n",
       "      <td>272</td>\n",
       "      <td>0.620467</td>\n",
       "    </tr>\n",
       "    <tr>\n",
       "      <td>5</td>\n",
       "      <td>0.347151</td>\n",
       "      <td>0.387597</td>\n",
       "      <td>0.343915</td>\n",
       "      <td>0.884572</td>\n",
       "      <td>0.962198</td>\n",
       "      <td>201812</td>\n",
       "      <td>88</td>\n",
       "      <td>272</td>\n",
       "      <td>0.585087</td>\n",
       "    </tr>\n",
       "    <tr>\n",
       "      <td>6</td>\n",
       "      <td>0.402353</td>\n",
       "      <td>0.449612</td>\n",
       "      <td>0.459613</td>\n",
       "      <td>0.896239</td>\n",
       "      <td>0.971335</td>\n",
       "      <td>201901</td>\n",
       "      <td>88</td>\n",
       "      <td>272</td>\n",
       "      <td>0.635830</td>\n",
       "    </tr>\n",
       "  </tbody>\n",
       "</table>\n",
       "<p>5397 rows × 9 columns</p>\n",
       "</div>"
      ],
      "text/plain": [
       "    TOT_SALES  nCustomers  nTxnPerCust  nChipsPerTxn  avgPricePerUnit  \\\n",
       "0    0.935431    0.980769     0.956123      0.522259         0.883569   \n",
       "1    0.942972    0.951923     0.993541      0.592305         0.886328   \n",
       "2    0.961503    0.836538     0.991768      0.456272         0.703027   \n",
       "3    0.988221    0.932692     0.989036      0.886568         0.590528   \n",
       "4    0.962149    0.951923     0.868852      0.557921         0.832481   \n",
       "..        ...         ...          ...           ...              ...   \n",
       "2    0.207554    0.286822     0.469697      0.948729         0.923887   \n",
       "3    0.346797    0.387597     0.534816      0.943478         0.971133   \n",
       "4    0.286706    0.310078     0.615078      0.923475         0.966999   \n",
       "5    0.347151    0.387597     0.343915      0.884572         0.962198   \n",
       "6    0.402353    0.449612     0.459613      0.896239         0.971335   \n",
       "\n",
       "    YEARMONTH  Trial_Str  Ctrl_Str  magnitude  \n",
       "0      201807         77         1   0.855630  \n",
       "1      201808         77         1   0.873414  \n",
       "2      201809         77         1   0.789822  \n",
       "3      201810         77         1   0.877409  \n",
       "4      201811         77         1   0.834665  \n",
       "..        ...        ...       ...        ...  \n",
       "2      201809         88       272   0.567338  \n",
       "3      201810         88       272   0.636764  \n",
       "4      201811         88       272   0.620467  \n",
       "5      201812         88       272   0.585087  \n",
       "6      201901         88       272   0.635830  \n",
       "\n",
       "[5397 rows x 9 columns]"
      ]
     },
     "execution_count": 79,
     "metadata": {},
     "output_type": "execute_result"
    }
   ],
   "source": [
    "dist_table = pd.DataFrame()\n",
    "for store in [77, 86, 88]:\n",
    "    dist_table = pd.concat([dist_table, calMagDist([\"TOT_SALES\", \"nCustomers\", \"nTxnPerCust\", \"nChipsPerTxn\", \"avgPricePerUnit\"], store)])\n",
    "    \n",
    "dist_table"
   ]
  },
  {
   "cell_type": "code",
   "execution_count": 80,
   "metadata": {},
   "outputs": [],
   "source": [
    "def combine_metric(metric, trial_store, inputTable=full_store_df):\n",
    "    corrs = calCorr(metric, trial_store, inputTable)\n",
    "    dists = calMagDist(metric, trial_store, inputTable)\n",
    "    dists = dists.drop(metric, axis=1)\n",
    "    combine = pd.merge(corrs, dists, on=[\"YEARMONTH\", \"Trial_Str\", \"Ctrl_Str\"])\n",
    "    return combine"
   ]
  },
  {
   "cell_type": "code",
   "execution_count": 81,
   "metadata": {},
   "outputs": [],
   "source": [
    "compare_metrics_table1 = pd.DataFrame()\n",
    "for store in [77, 86, 88]:\n",
    "    compare_metrics_table1 = pd.concat([compare_metrics_table1, combine_metric([\"TOT_SALES\"], store)])"
   ]
  },
  {
   "cell_type": "code",
   "execution_count": 82,
   "metadata": {},
   "outputs": [],
   "source": [
    "corr_weight = 0.5\n",
    "dist_weight = 1 - corr_weight"
   ]
  },
  {
   "cell_type": "code",
   "execution_count": 83,
   "metadata": {},
   "outputs": [
    {
     "name": "stdout",
     "output_type": "stream",
     "text": [
      "     Trial_Str  Ctrl_Str  Corr_Score  magnitude  CompScore\n",
      "218         77       233         1.0   0.986477   0.993238\n",
      "239         77       255         1.0   0.979479   0.989739\n",
      "177         77       188         1.0   0.977663   0.988831\n",
      "49          77        53         1.0   0.976678   0.988339\n",
      "120         77       131         1.0   0.976267   0.988134 \n",
      "\n",
      "     Trial_Str  Ctrl_Str  Corr_Score  magnitude  CompScore\n",
      "356         86       109         1.0   0.966783   0.983391\n",
      "401         86       155         1.0   0.965876   0.982938\n",
      "464         86       222         1.0   0.962280   0.981140\n",
      "467         86       225         1.0   0.960512   0.980256\n",
      "471         86       229         1.0   0.951704   0.975852 \n",
      "\n",
      "     Trial_Str  Ctrl_Str  Corr_Score  magnitude  CompScore\n",
      "551         88        40         1.0   0.941165   0.970582\n",
      "538         88        26         1.0   0.904377   0.952189\n",
      "582         88        72         1.0   0.903800   0.951900\n",
      "517         88         4         1.0   0.903466   0.951733\n",
      "568         88        58         1.0   0.891678   0.945839 \n",
      "\n"
     ]
    }
   ],
   "source": [
    "#Top 5 Score for each Trial Store wrt SALES\n",
    "grouped_comparison_table1 = compare_metrics_table1.groupby([\"Trial_Str\", \"Ctrl_Str\"]).mean().reset_index()\n",
    "grouped_comparison_table1[\"CompScore\"] = (corr_weight * grouped_comparison_table1[\"Corr_Score\"]) + (dist_weight * grouped_comparison_table1[\"magnitude\"])\n",
    "for trial_num in compare_metrics_table1[\"Trial_Str\"].unique():\n",
    "    print(grouped_comparison_table1[grouped_comparison_table1[\"Trial_Str\"] == trial_num].sort_values(ascending=False, by=\"CompScore\").head(), '\\n')"
   ]
  },
  {
   "cell_type": "code",
   "execution_count": 84,
   "metadata": {},
   "outputs": [
    {
     "name": "stdout",
     "output_type": "stream",
     "text": [
      "     Trial_Str  Ctrl_Str  Corr_Score  magnitude  CompScore\n",
      "218         77       233         1.0   0.993132   0.996566\n",
      "38          77        41         1.0   0.976648   0.988324\n",
      "101         77       111         1.0   0.968407   0.984203\n",
      "105         77       115         1.0   0.967033   0.983516\n",
      "15          77        17         1.0   0.965659   0.982830 \n",
      "\n",
      "     Trial_Str  Ctrl_Str  Corr_Score  magnitude  CompScore\n",
      "401         86       155         1.0   0.986772   0.993386\n",
      "467         86       225         1.0   0.969577   0.984788\n",
      "356         86       109         1.0   0.969577   0.984788\n",
      "471         86       229         1.0   0.964286   0.982143\n",
      "293         86        39         1.0   0.961640   0.980820 \n",
      "\n",
      "     Trial_Str  Ctrl_Str  Corr_Score  magnitude  CompScore\n",
      "736         88       237         1.0   0.987818   0.993909\n",
      "705         88       203         1.0   0.944629   0.972315\n",
      "551         88        40         1.0   0.942414   0.971207\n",
      "668         88       165         1.0   0.935770   0.967885\n",
      "701         88       199         1.0   0.932447   0.966224 \n",
      "\n"
     ]
    }
   ],
   "source": [
    "compare_metrics_table2 = pd.DataFrame()\n",
    "for trial_num in [77, 86, 88]:\n",
    "    compare_metrics_table2 = pd.concat([compare_metrics_table2, combine_metric([\"nCustomers\"], trial_num)])\n",
    "    \n",
    "#Top 5 highest Composite Score for each Trial Store based wrt Customers\n",
    "grouped_comparison_table2 = compare_metrics_table2.groupby([\"Trial_Str\", \"Ctrl_Str\"]).mean().reset_index()\n",
    "grouped_comparison_table2[\"CompScore\"] = (corr_weight * grouped_comparison_table2[\"Corr_Score\"]) + (dist_weight * grouped_comparison_table2[\"magnitude\"])\n",
    "for trial_num in compare_metrics_table2[\"Trial_Str\"].unique():\n",
    "    print(grouped_comparison_table2[grouped_comparison_table2[\"Trial_Str\"] == trial_num].sort_values(ascending=False, by=\"CompScore\").head(), '\\n')"
   ]
  },
  {
   "cell_type": "code",
   "execution_count": 85,
   "metadata": {},
   "outputs": [
    {
     "name": "stdout",
     "output_type": "stream",
     "text": [
      "Trial_Str  Ctrl_Str\n",
      "77         233         0.994902\n",
      "           41          0.986020\n",
      "           46          0.984762\n",
      "dtype: float64 \n",
      "\n",
      "Trial_Str  Ctrl_Str\n",
      "86         155         0.988162\n",
      "           109         0.984090\n",
      "           225         0.982522\n",
      "dtype: float64 \n",
      "\n",
      "Trial_Str  Ctrl_Str\n",
      "88         40          0.970895\n",
      "           26          0.958929\n",
      "           72          0.954079\n",
      "dtype: float64 \n",
      "\n"
     ]
    }
   ],
   "source": [
    "for trial_num in compare_metrics_table2[\"Trial_Str\"].unique():\n",
    "    a = grouped_comparison_table1[grouped_comparison_table1[\"Trial_Str\"] == trial_num].sort_values(ascending=False, by=\"CompScore\").set_index([\"Trial_Str\", \"Ctrl_Str\"])[\"CompScore\"]\n",
    "    b = grouped_comparison_table2[grouped_comparison_table2[\"Trial_Str\"] == trial_num].sort_values(ascending=False, by=\"CompScore\").set_index([\"Trial_Str\", \"Ctrl_Str\"])[\"CompScore\"]\n",
    "    print((pd.concat([a,b], axis=1).sum(axis=1)/2).sort_values(ascending=False).head(3), '\\n')"
   ]
  },
  {
   "cell_type": "markdown",
   "metadata": {},
   "source": [
    "Based on highest average of both features combined:\n",
    "\n",
    "    Trial store 77: Store 233\n",
    "    Trial store 86: Store 155\n",
    "    Trial store 88: Store 40"
   ]
  },
  {
   "cell_type": "code",
   "execution_count": 87,
   "metadata": {},
   "outputs": [
    {
     "data": {
      "image/png": "[encoded data removed]",
      "text/plain": [
       "<Figure size 432x288 with 1 Axes>"
      ]
     },
     "metadata": {
      "needs_background": "light"
     },
     "output_type": "display_data"
    },
    {
     "data": {
      "image/png": "[encoded data removed]",
      "text/plain": [
       "<Figure size 432x288 with 1 Axes>"
      ]
     },
     "metadata": {
      "needs_background": "light"
     },
     "output_type": "display_data"
    },
    {
     "name": "stdout",
     "output_type": "stream",
     "text": [
      "\n",
      "\n"
     ]
    },
    {
     "data": {
      "image/png": "[encoded data removed]",
      "text/plain": [
       "<Figure size 432x288 with 1 Axes>"
      ]
     },
     "metadata": {
      "needs_background": "light"
     },
     "output_type": "display_data"
    },
    {
     "data": {
      "image/png": "[encoded data removed]",
      "text/plain": [
       "<Figure size 432x288 with 1 Axes>"
      ]
     },
     "metadata": {
      "needs_background": "light"
     },
     "output_type": "display_data"
    },
    {
     "name": "stdout",
     "output_type": "stream",
     "text": [
      "\n",
      "\n"
     ]
    },
    {
     "data": {
      "image/png": "[encoded data removed]",
      "text/plain": [
       "<Figure size 432x288 with 1 Axes>"
      ]
     },
     "metadata": {
      "needs_background": "light"
     },
     "output_type": "display_data"
    },
    {
     "data": {
      "image/png": "[encoded data removed]",
      "text/plain": [
       "<Figure size 432x288 with 1 Axes>"
      ]
     },
     "metadata": {
      "needs_background": "light"
     },
     "output_type": "display_data"
    },
    {
     "name": "stdout",
     "output_type": "stream",
     "text": [
      "\n",
      "\n"
     ]
    }
   ],
   "source": [
    "trial_control = {77:233, 86:155, 88:40}\n",
    "for key, val in trial_control.items():\n",
    "    full_store_df[full_store_df[\"STORE_NBR\"].isin([key, val])].groupby(\n",
    "        [\"YEARMONTH\", \"STORE_NBR\"]).sum()[\"TOT_SALES\"].unstack().plot.bar()\n",
    "    plt.legend(loc='center left', bbox_to_anchor=(1.0, 0.5))\n",
    "    plt.title(\"Trial Store \"+str(key)+\" and Control Store \"+str(val)+\" - TOTAL_SALES\")\n",
    "    plt.show()\n",
    "    full_store_df[full_store_df[\"STORE_NBR\"].isin([key, val])].groupby(\n",
    "    [\"YEARMONTH\", \"STORE_NBR\"]).sum()[\"nCustomers\"].unstack().plot.bar()\n",
    "    plt.legend(loc='center left', bbox_to_anchor=(1.0, 0.5))\n",
    "    plt.title(\"Trial Store \"+str(key)+\" and Control Store \"+str(val)+\" - TOTAL_Customer\")\n",
    "    plt.show()\n",
    "    print('\\n')"
   ]
  },
  {
   "cell_type": "markdown",
   "metadata": {},
   "source": [
    "Next we'll compare the performance of Trial stores to Control stores during the trial period."
   ]
  },
  {
   "cell_type": "code",
   "execution_count": 88,
   "metadata": {},
   "outputs": [],
   "source": [
    "#Ratio of Store 77 and its Control store.\n",
    "sales_ratio_77 = full_store_df[full_store_df[\"STORE_NBR\"] == 77][\"TOT_SALES\"].sum() / full_store_df[full_store_df[\"STORE_NBR\"] == 233][\"TOT_SALES\"].sum()\n",
    "\n",
    "#Ratio of Store 86 and its Control store.\n",
    "sales_ratio_86 = full_store_df[full_store_df[\"STORE_NBR\"] == 86][\"TOT_SALES\"].sum() / full_store_df[full_store_df[\"STORE_NBR\"] == 155][\"TOT_SALES\"].sum()\n",
    "\n",
    "#Ratio of Store 77 and its Control store.\n",
    "sales_ratio_88 = full_store_df[full_store_df[\"STORE_NBR\"] == 88][\"TOT_SALES\"].sum() / full_store_df[full_store_df[\"STORE_NBR\"] == 40][\"TOT_SALES\"].sum()"
   ]
  },
  {
   "cell_type": "code",
   "execution_count": 89,
   "metadata": {},
   "outputs": [],
   "source": [
    "trial_full_observ = full_observ[(full_observ[\"YEARMONTH\"] >= 201902) & (full_observ[\"YEARMONTH\"] <= 201904)]\n",
    "scaled_sales_control_stores = full_observ[full_observ[\"STORE_NBR\"].isin([233, 155, 40])][[\"STORE_NBR\", \"YEARMONTH\", \"TOT_SALES\"]]\n",
    "\n",
    "def scaler(row):\n",
    "    if row[\"STORE_NBR\"] == 233:\n",
    "        return row[\"TOT_SALES\"] * sales_ratio_77\n",
    "    elif row[\"STORE_NBR\"] == 155:\n",
    "        return row[\"TOT_SALES\"] * sales_ratio_86\n",
    "    elif row[\"STORE_NBR\"] == 40:\n",
    "        return row[\"TOT_SALES\"] * sales_ratio_88\n",
    "\n",
    "scaled_sales_control_stores[\"ScaledSales\"] = scaled_sales_control_stores.apply(lambda row: scaler(row), axis=1)\n",
    "\n",
    "trial_scaled_sales_control_stores = scaled_sales_control_stores[(scaled_sales_control_stores[\"YEARMONTH\"] >= 201902) & (scaled_sales_control_stores[\"YEARMONTH\"] <= 201904)]\n",
    "pretrial_scaled_sales_control_stores = scaled_sales_control_stores[scaled_sales_control_stores[\"YEARMONTH\"] < 201902]"
   ]
  },
  {
   "cell_type": "code",
   "execution_count": 91,
   "metadata": {},
   "outputs": [
    {
     "data": {
      "image/png": "[encoded data removed]",
      "text/plain": [
       "<Figure size 432x288 with 1 Axes>"
      ]
     },
     "metadata": {
      "needs_background": "light"
     },
     "output_type": "display_data"
    },
    {
     "data": {
      "image/png": "[encoded data removed]",
      "text/plain": [
       "<Figure size 432x288 with 1 Axes>"
      ]
     },
     "metadata": {
      "needs_background": "light"
     },
     "output_type": "display_data"
    },
    {
     "data": {
      "image/png": "[encoded data removed]",
      "text/plain": [
       "<Figure size 432x288 with 1 Axes>"
      ]
     },
     "metadata": {
      "needs_background": "light"
     },
     "output_type": "display_data"
    }
   ],
   "source": [
    "percentage_diff = {}\n",
    "\n",
    "for trial, control in trial_control.items():\n",
    "    a = trial_scaled_sales_control_stores[trial_scaled_sales_control_stores[\"STORE_NBR\"] == control]\n",
    "    b = trial_full_observ[trial_full_observ[\"STORE_NBR\"] == trial][[\"STORE_NBR\", \"YEARMONTH\", \"TOT_SALES\"]]\n",
    "    percentage_diff[trial] = b[\"TOT_SALES\"].sum() / a[\"ScaledSales\"].sum()\n",
    "    b[[\"YEARMONTH\", \"TOT_SALES\"]].merge(a[[\"YEARMONTH\", \"ScaledSales\"]],on=\"YEARMONTH\").set_index(\"YEARMONTH\").rename(columns={\"ScaledSales\":\"Scaled_Control_Sales\", \"TOT_SALES\":\"Trial_Sales\"}).plot.bar()\n",
    "    plt.legend(loc='center left', bbox_to_anchor=(1.0, 0.5))\n",
    "    plt.title(\"Trial Store \"+str(trial)+\" and Control Store \"+str(control))"
   ]
  },
  {
   "cell_type": "code",
   "execution_count": null,
   "metadata": {},
   "outputs": [],
   "source": []
  }
 ],
 "metadata": {
  "kernelspec": {
   "display_name": "Python 3",
   "language": "python",
   "name": "python3"
  },
  "language_info": {
   "codemirror_mode": {
    "name": "ipython",
    "version": 3
   },
   "file_extension": ".py",
   "mimetype": "text/x-python",
   "name": "python",
   "nbconvert_exporter": "python",
   "pygments_lexer": "ipython3",
   "version": "3.7.4"
  }
 },
 "nbformat": 4,
 "nbformat_minor": 2
}
